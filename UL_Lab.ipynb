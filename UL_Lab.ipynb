{
 "cells": [
  {
   "cell_type": "markdown",
   "id": "b7f1e325",
   "metadata": {},
   "source": [
    "\n",
    "# Unsupervised Learning Lab: Customer Segmentation\n",
    "\n",
    "## Introduction\n",
    "Welcome to the Unsupervised Learning lab. You will perform customer segmentation using unsupervised learning techniques on customer data from a store. You will read the dataset using pandas and apply various clustering algorithms to segment the customers.\n",
    "\n",
    "### Dataset\n",
    "The dataset contains the following columns:\n",
    "- `CustomerID`: Unique identifier for each customer\n",
    "- `Age`: Age of the customer\n",
    "- `AnnualIncome`: Annual income of the customer in dollars\n",
    "- `SpendingScore`: A score assigned to the customer based on their spending behavior\n",
    "\n",
    "### Instructions\n",
    "1. Follow the steps in each exercise to preprocess the data, apply the clustering algorithms, and visualize the results.\n",
    "2. Analyze the clusters and interpret the results.\n"
   ]
  },
  {
   "cell_type": "markdown",
   "id": "a0cae0cd",
   "metadata": {},
   "source": [
    "## Exercise 1: Data Preprocessing and Exploration\n",
    "1. Load the dataset using pandas.\n",
    "2. Explore the dataset to understand its structure and contents.\n",
    "3. Perform basic data cleaning, if necessary (e.g., handling missing values, if any).\n",
    "4. Standardize the numerical features to ensure they are on a similar scale."
   ]
  },
  {
   "cell_type": "code",
   "execution_count": 10,
   "id": "e3b8f8cb",
   "metadata": {},
   "outputs": [
    {
     "data": {
      "text/html": [
       "<div>\n",
       "<style scoped>\n",
       "    .dataframe tbody tr th:only-of-type {\n",
       "        vertical-align: middle;\n",
       "    }\n",
       "\n",
       "    .dataframe tbody tr th {\n",
       "        vertical-align: top;\n",
       "    }\n",
       "\n",
       "    .dataframe thead th {\n",
       "        text-align: right;\n",
       "    }\n",
       "</style>\n",
       "<table border=\"1\" class=\"dataframe\">\n",
       "  <thead>\n",
       "    <tr style=\"text-align: right;\">\n",
       "      <th></th>\n",
       "      <th>CustomerID</th>\n",
       "      <th>Age</th>\n",
       "      <th>AnnualIncome</th>\n",
       "      <th>SpendingScore</th>\n",
       "    </tr>\n",
       "  </thead>\n",
       "  <tbody>\n",
       "    <tr>\n",
       "      <th>0</th>\n",
       "      <td>1</td>\n",
       "      <td>56</td>\n",
       "      <td>81228</td>\n",
       "      <td>59</td>\n",
       "    </tr>\n",
       "    <tr>\n",
       "      <th>1</th>\n",
       "      <td>2</td>\n",
       "      <td>69</td>\n",
       "      <td>68984</td>\n",
       "      <td>32</td>\n",
       "    </tr>\n",
       "    <tr>\n",
       "      <th>2</th>\n",
       "      <td>3</td>\n",
       "      <td>46</td>\n",
       "      <td>60774</td>\n",
       "      <td>96</td>\n",
       "    </tr>\n",
       "    <tr>\n",
       "      <th>3</th>\n",
       "      <td>4</td>\n",
       "      <td>32</td>\n",
       "      <td>22568</td>\n",
       "      <td>88</td>\n",
       "    </tr>\n",
       "    <tr>\n",
       "      <th>4</th>\n",
       "      <td>5</td>\n",
       "      <td>60</td>\n",
       "      <td>82592</td>\n",
       "      <td>52</td>\n",
       "    </tr>\n",
       "    <tr>\n",
       "      <th>...</th>\n",
       "      <td>...</td>\n",
       "      <td>...</td>\n",
       "      <td>...</td>\n",
       "      <td>...</td>\n",
       "    </tr>\n",
       "    <tr>\n",
       "      <th>95</th>\n",
       "      <td>96</td>\n",
       "      <td>42</td>\n",
       "      <td>117504</td>\n",
       "      <td>24</td>\n",
       "    </tr>\n",
       "    <tr>\n",
       "      <th>96</th>\n",
       "      <td>97</td>\n",
       "      <td>62</td>\n",
       "      <td>118098</td>\n",
       "      <td>54</td>\n",
       "    </tr>\n",
       "    <tr>\n",
       "      <th>97</th>\n",
       "      <td>98</td>\n",
       "      <td>58</td>\n",
       "      <td>33545</td>\n",
       "      <td>33</td>\n",
       "    </tr>\n",
       "    <tr>\n",
       "      <th>98</th>\n",
       "      <td>99</td>\n",
       "      <td>46</td>\n",
       "      <td>86199</td>\n",
       "      <td>24</td>\n",
       "    </tr>\n",
       "    <tr>\n",
       "      <th>99</th>\n",
       "      <td>100</td>\n",
       "      <td>32</td>\n",
       "      <td>54766</td>\n",
       "      <td>75</td>\n",
       "    </tr>\n",
       "  </tbody>\n",
       "</table>\n",
       "<p>100 rows × 4 columns</p>\n",
       "</div>"
      ],
      "text/plain": [
       "    CustomerID  Age  AnnualIncome  SpendingScore\n",
       "0            1   56         81228             59\n",
       "1            2   69         68984             32\n",
       "2            3   46         60774             96\n",
       "3            4   32         22568             88\n",
       "4            5   60         82592             52\n",
       "..         ...  ...           ...            ...\n",
       "95          96   42        117504             24\n",
       "96          97   62        118098             54\n",
       "97          98   58         33545             33\n",
       "98          99   46         86199             24\n",
       "99         100   32         54766             75\n",
       "\n",
       "[100 rows x 4 columns]"
      ]
     },
     "execution_count": 10,
     "metadata": {},
     "output_type": "execute_result"
    }
   ],
   "source": [
    "# import libraries\n",
    "\n",
    "import pandas as pd\n",
    "import numpy as np\n",
    "import matplotlib.pyplot as plt\n",
    "from sklearn.preprocessing import StandardScaler\n",
    "\n",
    "# load customer dataset \n",
    "customer_data = \"customer_data.csv\"\n",
    "df_customer_data = pd.read_csv(customer_data)\n",
    "df_customer_data"
   ]
  },
  {
   "cell_type": "code",
   "execution_count": 4,
   "id": "a9198519-50de-4eca-b72f-0ceacce5cf46",
   "metadata": {},
   "outputs": [
    {
     "name": "stdout",
     "output_type": "stream",
     "text": [
      "     Column Name Data Type  Non-Null Count  Null Count  Percentage Null  \\\n",
      "0     CustomerID     int64             100           0              0.0   \n",
      "1            Age     int64             100           0              0.0   \n",
      "2   AnnualIncome     int64             100           0              0.0   \n",
      "3  SpendingScore     int64             100           0              0.0   \n",
      "\n",
      "   Unique Values  \n",
      "0            100  \n",
      "1             47  \n",
      "2            100  \n",
      "3             57  \n"
     ]
    }
   ],
   "source": [
    "# Summary of the data: checking data types\n",
    "column_summary_df_customer_data = pd.DataFrame({\n",
    "    'Column Name': df_customer_data.columns,\n",
    "    'Data Type': df_customer_data.dtypes.values,\n",
    "    'Non-Null Count': df_customer_data.notnull().sum().values,\n",
    "    'Null Count': df_customer_data.isnull().sum().values,\n",
    "    'Data Type': df_customer_data.dtypes.values,\n",
    "    'Percentage Null': df_customer_data.isnull().mean().values * 100,\n",
    "    'Unique Values': df_customer_data.nunique().values\n",
    "})\n",
    "\n",
    "print(column_summary_df_customer_data)"
   ]
  },
  {
   "cell_type": "code",
   "execution_count": 6,
   "id": "3cc9cdb9-b636-476c-9729-e80b5fc6e6ec",
   "metadata": {},
   "outputs": [
    {
     "data": {
      "text/html": [
       "<div>\n",
       "<style scoped>\n",
       "    .dataframe tbody tr th:only-of-type {\n",
       "        vertical-align: middle;\n",
       "    }\n",
       "\n",
       "    .dataframe tbody tr th {\n",
       "        vertical-align: top;\n",
       "    }\n",
       "\n",
       "    .dataframe thead th {\n",
       "        text-align: right;\n",
       "    }\n",
       "</style>\n",
       "<table border=\"1\" class=\"dataframe\">\n",
       "  <thead>\n",
       "    <tr style=\"text-align: right;\">\n",
       "      <th></th>\n",
       "      <th>CustomerID</th>\n",
       "      <th>Age</th>\n",
       "      <th>AnnualIncome</th>\n",
       "      <th>SpendingScore</th>\n",
       "    </tr>\n",
       "  </thead>\n",
       "  <tbody>\n",
       "    <tr>\n",
       "      <th>count</th>\n",
       "      <td>100.000000</td>\n",
       "      <td>100.000000</td>\n",
       "      <td>100.000000</td>\n",
       "      <td>100.000000</td>\n",
       "    </tr>\n",
       "    <tr>\n",
       "      <th>mean</th>\n",
       "      <td>50.500000</td>\n",
       "      <td>43.350000</td>\n",
       "      <td>69474.690000</td>\n",
       "      <td>48.760000</td>\n",
       "    </tr>\n",
       "    <tr>\n",
       "      <th>std</th>\n",
       "      <td>29.011492</td>\n",
       "      <td>14.904663</td>\n",
       "      <td>29863.619229</td>\n",
       "      <td>31.064976</td>\n",
       "    </tr>\n",
       "    <tr>\n",
       "      <th>min</th>\n",
       "      <td>1.000000</td>\n",
       "      <td>19.000000</td>\n",
       "      <td>20206.000000</td>\n",
       "      <td>1.000000</td>\n",
       "    </tr>\n",
       "    <tr>\n",
       "      <th>25%</th>\n",
       "      <td>25.750000</td>\n",
       "      <td>31.750000</td>\n",
       "      <td>43229.750000</td>\n",
       "      <td>20.000000</td>\n",
       "    </tr>\n",
       "    <tr>\n",
       "      <th>50%</th>\n",
       "      <td>50.500000</td>\n",
       "      <td>42.000000</td>\n",
       "      <td>70325.500000</td>\n",
       "      <td>52.000000</td>\n",
       "    </tr>\n",
       "    <tr>\n",
       "      <th>75%</th>\n",
       "      <td>75.250000</td>\n",
       "      <td>57.000000</td>\n",
       "      <td>95529.000000</td>\n",
       "      <td>73.500000</td>\n",
       "    </tr>\n",
       "    <tr>\n",
       "      <th>max</th>\n",
       "      <td>100.000000</td>\n",
       "      <td>69.000000</td>\n",
       "      <td>118806.000000</td>\n",
       "      <td>99.000000</td>\n",
       "    </tr>\n",
       "  </tbody>\n",
       "</table>\n",
       "</div>"
      ],
      "text/plain": [
       "       CustomerID         Age   AnnualIncome  SpendingScore\n",
       "count  100.000000  100.000000     100.000000     100.000000\n",
       "mean    50.500000   43.350000   69474.690000      48.760000\n",
       "std     29.011492   14.904663   29863.619229      31.064976\n",
       "min      1.000000   19.000000   20206.000000       1.000000\n",
       "25%     25.750000   31.750000   43229.750000      20.000000\n",
       "50%     50.500000   42.000000   70325.500000      52.000000\n",
       "75%     75.250000   57.000000   95529.000000      73.500000\n",
       "max    100.000000   69.000000  118806.000000      99.000000"
      ]
     },
     "execution_count": 6,
     "metadata": {},
     "output_type": "execute_result"
    }
   ],
   "source": [
    "# Summary of the data: checking numerical distribution of data\n",
    "df_customer_data.describe()"
   ]
  },
  {
   "cell_type": "code",
   "execution_count": 12,
   "id": "c974f74f-71f0-48c6-90c0-e2da8d22c05c",
   "metadata": {},
   "outputs": [
    {
     "data": {
      "image/png": "[encoded data removed]",
      "text/plain": [
       "<Figure size 1500x2000 with 4 Axes>"
      ]
     },
     "metadata": {},
     "output_type": "display_data"
    }
   ],
   "source": [
    "# Creating histograms for each numerical column in 'df_customer_data' to check for distribution\n",
    "df_customer_data.hist(figsize=(15, 20), bins=60, xlabelsize=10, ylabelsize=10);\n",
    "plt.show()"
   ]
  },
  {
   "cell_type": "code",
   "execution_count": null,
   "id": "d3bbef72-5165-465a-9fbb-76e8c8406a1e",
   "metadata": {},
   "outputs": [],
   "source": [
    "# Standardize the numerical features to ensure they are on a similar scale.\n",
    "standard scaling\n",
    "\n",
    "\n"
   ]
  },
  {
   "cell_type": "code",
   "execution_count": null,
   "id": "c3ae2c77-ac33-4d4c-9dad-c79f0c6bc5be",
   "metadata": {},
   "outputs": [],
   "source": []
  },
  {
   "cell_type": "code",
   "execution_count": null,
   "id": "3ccefd25-d934-4ba5-b434-f2a5f2d08e4b",
   "metadata": {},
   "outputs": [],
   "source": []
  },
  {
   "cell_type": "markdown",
   "id": "1e8bd820",
   "metadata": {},
   "source": [
    "## Exercise 2: K-Means Clustering\n",
    "1. Apply K-Means clustering to segment the customers based on their `Age`, `AnnualIncome`, and `SpendingScore`.\n",
    "2. Determine the optimal number of clusters using the Elbow method.\n",
    "3. Visualize the clusters using scatter plots."
   ]
  },
  {
   "cell_type": "code",
   "execution_count": 3,
   "id": "54de5f00",
   "metadata": {},
   "outputs": [],
   "source": [
    "import matplotlib.pyplot as plt\n",
    "from sklearn.cluster import KMeans\n",
    "\n",
    "#Your answer"
   ]
  },
  {
   "cell_type": "markdown",
   "id": "03b07ba2",
   "metadata": {},
   "source": [
    "## Exercise 3: Hierarchical Clustering\n",
    "1. Apply Agglomerative Hierarchical Clustering to the same features.\n",
    "2. Use a dendrogram to determine the optimal number of clusters.\n",
    "3. Visualize the clusters using scatter plots."
   ]
  },
  {
   "cell_type": "code",
   "execution_count": 4,
   "id": "83ba2997",
   "metadata": {},
   "outputs": [],
   "source": [
    "from scipy.cluster.hierarchy import dendrogram, linkage\n",
    "from sklearn.cluster import AgglomerativeClustering\n",
    "\n",
    "#Your answer"
   ]
  },
  {
   "cell_type": "markdown",
   "id": "f570cbf1",
   "metadata": {},
   "source": [
    "## Exercise 4: DBSCAN Clustering\n",
    "1. Apply DBSCAN clustering to the same features.\n",
    "2. Experiment with different values of `eps` and `min_samples` to find the best clustering results.\n",
    "3. Visualize the clusters using scatter plots."
   ]
  },
  {
   "cell_type": "code",
   "execution_count": 6,
   "id": "12e76dcf",
   "metadata": {},
   "outputs": [],
   "source": [
    "from sklearn.cluster import DBSCAN\n",
    "\n",
    "#Your answer"
   ]
  }
 ],
 "metadata": {
  "kernelspec": {
   "display_name": "Python [conda env:base] *",
   "language": "python",
   "name": "conda-base-py"
  },
  "language_info": {
   "codemirror_mode": {
    "name": "ipython",
    "version": 3
   },
   "file_extension": ".py",
   "mimetype": "text/x-python",
   "name": "python",
   "nbconvert_exporter": "python",
   "pygments_lexer": "ipython3",
   "version": "3.12.7"
  }
 },
 "nbformat": 4,
 "nbformat_minor": 5
}
